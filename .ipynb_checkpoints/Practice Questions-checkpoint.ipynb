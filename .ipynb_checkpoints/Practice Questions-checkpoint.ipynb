{
 "cells": [
  {
   "cell_type": "markdown",
   "metadata": {},
   "source": [
    "**Question 1:**"
   ]
  },
  {
   "cell_type": "code",
   "execution_count": null,
   "metadata": {},
   "outputs": [],
   "source": [
    "def longestPalinString(s):\n",
    "    s = s.lower()\n",
    "    result = []\n",
    "\n",
    "    for i in range(len(s)):\n",
    "        for j in range(0, i):\n",
    "            x = s[j:i + 1]\n",
    "\n",
    "            if x == x[::-1]:\n",
    "                result.append(x)\n",
    "\n",
    "    return max(result,key=len)\n",
    "\n",
    "longestPalinString(s = input('Enter a string:'))"
   ]
  },
  {
   "cell_type": "markdown",
   "metadata": {},
   "source": [
    "**Question 2**"
   ]
  },
  {
   "cell_type": "code",
   "execution_count": 33,
   "metadata": {},
   "outputs": [
    {
     "name": "stdout",
     "output_type": "stream",
     "text": [
      "1 2 3 4 3 3\n"
     ]
    },
    {
     "data": {
      "text/plain": [
       "4"
      ]
     },
     "execution_count": 33,
     "metadata": {},
     "output_type": "execute_result"
    }
   ],
   "source": [
    "myInput = [int(s) for s in input().split()]\n",
    "\n",
    "def equilibrium(a): \n",
    "  \n",
    "    total = sum(a) \n",
    "    left = 0\n",
    "    for i, x in enumerate(a): \n",
    "        total -= x \n",
    "        if left == total: \n",
    "            return i+1 \n",
    "        left += x\n",
    "    return -1\n",
    "\n",
    "equilibrium(myInput)"
   ]
  },
  {
   "cell_type": "markdown",
   "metadata": {},
   "source": [
    "**Question 3\n",
    "<br>\n",
    "Write a program in python to reverse the string from its half.**"
   ]
  },
  {
   "cell_type": "code",
   "execution_count": 54,
   "metadata": {},
   "outputs": [
    {
     "name": "stdout",
     "output_type": "stream",
     "text": [
      "hello\n"
     ]
    },
    {
     "data": {
      "text/plain": [
       "'ehlol'"
      ]
     },
     "execution_count": 54,
     "metadata": {},
     "output_type": "execute_result"
    }
   ],
   "source": [
    "midReverse(input())"
   ]
  },
  {
   "cell_type": "code",
   "execution_count": 53,
   "metadata": {},
   "outputs": [],
   "source": [
    "def midReverse(s):\n",
    "    x = ''\n",
    "    mid = len(s)//2\n",
    "    x += s[:len(s)//2][::-1]\n",
    "    if len(s)%2==0:\n",
    "        x += s[len(s)//2:][::-1]\n",
    "    else:\n",
    "        x += s[mid]\n",
    "        x += s[len(s)//2+1:][::-1]\n",
    "    return x"
   ]
  },
  {
   "cell_type": "markdown",
   "metadata": {},
   "source": [
    "**Question 4\n",
    "<br>\n",
    "Write a function in python which accepts number and its base as parameters and\n",
    "returns its decimal value**"
   ]
  },
  {
   "cell_type": "code",
   "execution_count": 63,
   "metadata": {},
   "outputs": [
    {
     "name": "stdout",
     "output_type": "stream",
     "text": [
      "Enter String and base: 1100 2\n",
      "12\n"
     ]
    }
   ],
   "source": [
    "def actual(c): \n",
    "    if c >= '0' and c <= '9': \n",
    "        return ord(c) - ord('0') \n",
    "    else: \n",
    "        return ord(c) - ord('A') + 10; \n",
    "\n",
    "def toDecimal(s,b): \n",
    "    l = len(s) \n",
    "    power = 1 \n",
    "    num = 0\n",
    "    for i in range(l - 1, -1, -1): \n",
    "        if actual(s[i]) >= b: \n",
    "            print('Invalid') \n",
    "            return -1\n",
    "        num += val(s[i])*power \n",
    "        power = power*b \n",
    "    return num \n",
    "s,b = input('Enter String and base: ').split()\n",
    "b = int(b)\n",
    "print(toDecimal(s, b))\n"
   ]
  },
  {
   "cell_type": "markdown",
   "metadata": {},
   "source": [
    "**LINUX Question:\n",
    "<br>\n",
    "Consider a file abc.txt, Write a linux command to replace all the occurrence of\n",
    "“BETA” to “DELTA”**"
   ]
  },
  {
   "cell_type": "raw",
   "metadata": {},
   "source": [
    "vim abc.txt\n",
    ":%s/BETA/DELTA/g"
   ]
  },
  {
   "cell_type": "markdown",
   "metadata": {},
   "source": [
    "**LINUX Question:\n",
    "<br>\n",
    "Consider a directory /home/abc, it contains several files and directories.\n",
    "Write a command to find the directory/file of maximum size.**"
   ]
  },
  {
   "cell_type": "raw",
   "metadata": {},
   "source": [
    "du -a /home/abc | sort -nr | head -n 1"
   ]
  },
  {
   "cell_type": "markdown",
   "metadata": {},
   "source": [
    "**Write a linux command to redirect both stdout and stderr to file**"
   ]
  },
  {
   "cell_type": "raw",
   "metadata": {},
   "source": [
    "Redirect stdout to one file and stderr to another file:\n",
    "\n",
    "command > out 2>error\n",
    "Redirect stderr to stdout (&1), and then redirect stdout to a file:\n",
    "\n",
    "command >out 2>&1\n",
    "Redirect both to a file (this isn't supported by all shells, bash and zsh support it, for example, but sh and ksh do not):\n",
    "\n",
    "command &> out"
   ]
  },
  {
   "cell_type": "markdown",
   "metadata": {},
   "source": [
    "**How to set variable in bash and tcsh**"
   ]
  },
  {
   "cell_type": "raw",
   "metadata": {},
   "source": [
    "2.In BASH:\n",
    "    myVariable = 'Hello'\n",
    "    OR\n",
    "    set myVar = myVariable\n",
    "In TCSH:\n",
    "    In this example, set an environment variables in tcsh called var to bus:\n",
    "    setenv var bus"
   ]
  },
  {
   "cell_type": "markdown",
   "metadata": {},
   "source": [
    "**Write a Program to count the number of words in a string?**"
   ]
  },
  {
   "cell_type": "code",
   "execution_count": 76,
   "metadata": {},
   "outputs": [],
   "source": [
    "def countWords(s):\n",
    "    words = 0\n",
    "    for i in s:\n",
    "        if i==' ' or i==',' or i=='.' or i==';' or i==':':\n",
    "            words+=1\n",
    "    if s[-1]!='.':\n",
    "        words+=1\n",
    "    return words"
   ]
  },
  {
   "cell_type": "code",
   "execution_count": 77,
   "metadata": {},
   "outputs": [
    {
     "name": "stdout",
     "output_type": "stream",
     "text": [
      "Enter a String:hello mister\n"
     ]
    },
    {
     "data": {
      "text/plain": [
       "2"
      ]
     },
     "execution_count": 77,
     "metadata": {},
     "output_type": "execute_result"
    }
   ],
   "source": [
    "countWords(input('Enter a String:'))"
   ]
  },
  {
   "cell_type": "markdown",
   "metadata": {},
   "source": [
    "**Write a Program to find the second highest number in an array?**"
   ]
  },
  {
   "cell_type": "code",
   "execution_count": 91,
   "metadata": {},
   "outputs": [
    {
     "name": "stdout",
     "output_type": "stream",
     "text": [
      "1 2 3 4 5\n",
      "The second largest element is 4\n"
     ]
    }
   ],
   "source": [
    "def print2largest(a,s): \n",
    "  \n",
    "    if (s < 2): \n",
    "      \n",
    "        print(\"Array size must be more than 2\") \n",
    "        return\n",
    "      \n",
    "  \n",
    "    first = second = -2147483648\n",
    "    for i in range(s): \n",
    "      \n",
    "        if (a[i] > first): \n",
    "          \n",
    "            second = first \n",
    "            first = a[i] \n",
    "        elif (a[i] > second and a[i] != first): \n",
    "            second = a[i] \n",
    "    \n",
    "    print(\"The second largest element is\", second) \n",
    "x = [int(x) for x in input().split()]\n",
    "print2largest(x, len(x))"
   ]
  },
  {
   "cell_type": "markdown",
   "metadata": {},
   "source": [
    "**Write a program to create a folder in current directory with current timestamp and copy any\n",
    "text file from desktop to the newly created folder.**"
   ]
  },
  {
   "cell_type": "code",
   "execution_count": 92,
   "metadata": {},
   "outputs": [
    {
     "data": {
      "text/plain": [
       "['input_user_story_1.txt',\n",
       " 'train.csv',\n",
       " 'InternsConfirmation.ipynb',\n",
       " 'Feature Engineering.ipynb',\n",
       " 'questions.odt',\n",
       " '.ipynb_checkpoints',\n",
       " 'Untitled.ipynb',\n",
       " 'InvoiceParserWrong.ipynb',\n",
       " 'Invoice_Parser.ipynb']"
      ]
     },
     "execution_count": 92,
     "metadata": {},
     "output_type": "execute_result"
    }
   ],
   "source": [
    "import os\n",
    "os.listdir()"
   ]
  },
  {
   "cell_type": "code",
   "execution_count": 93,
   "metadata": {},
   "outputs": [],
   "source": [
    "os.mkdir('Sample')"
   ]
  },
  {
   "cell_type": "code",
   "execution_count": 95,
   "metadata": {
    "scrolled": true
   },
   "outputs": [
    {
     "data": {
      "text/plain": [
       "['input_user_story_1.txt',\n",
       " 'train.csv',\n",
       " 'InternsConfirmation.ipynb',\n",
       " 'Sample',\n",
       " 'Feature Engineering.ipynb',\n",
       " 'questions.odt',\n",
       " '.ipynb_checkpoints',\n",
       " 'Untitled.ipynb',\n",
       " 'InvoiceParserWrong.ipynb',\n",
       " 'Invoice_Parser.ipynb']"
      ]
     },
     "execution_count": 95,
     "metadata": {},
     "output_type": "execute_result"
    }
   ],
   "source": [
    "os.listdir()    #directory created"
   ]
  },
  {
   "cell_type": "code",
   "execution_count": 96,
   "metadata": {},
   "outputs": [
    {
     "data": {
      "text/plain": [
       "'Sample/file.txt'"
      ]
     },
     "execution_count": 96,
     "metadata": {},
     "output_type": "execute_result"
    }
   ],
   "source": [
    "import shutil\n",
    "shutil.move('/home/pa.kumar/Desktop/file.txt','Sample')"
   ]
  },
  {
   "cell_type": "code",
   "execution_count": 98,
   "metadata": {},
   "outputs": [],
   "source": [
    "os.chdir('Sample')"
   ]
  },
  {
   "cell_type": "code",
   "execution_count": 99,
   "metadata": {},
   "outputs": [
    {
     "data": {
      "text/plain": [
       "['file.txt']"
      ]
     },
     "execution_count": 99,
     "metadata": {},
     "output_type": "execute_result"
    }
   ],
   "source": [
    "os.listdir()"
   ]
  },
  {
   "cell_type": "code",
   "execution_count": 101,
   "metadata": {},
   "outputs": [],
   "source": [
    "os.chdir('/home/pa.kumar/Desktop')"
   ]
  },
  {
   "cell_type": "code",
   "execution_count": 102,
   "metadata": {},
   "outputs": [
    {
     "data": {
      "text/plain": [
       "[]"
      ]
     },
     "execution_count": 102,
     "metadata": {},
     "output_type": "execute_result"
    }
   ],
   "source": [
    "os.listdir()"
   ]
  },
  {
   "cell_type": "markdown",
   "metadata": {},
   "source": [
    "**Write a program to open a new notepad using python, enter some data into the file and\n",
    "save it to your local directory.**"
   ]
  },
  {
   "cell_type": "code",
   "execution_count": 103,
   "metadata": {},
   "outputs": [],
   "source": [
    "f = open('newFile.txt','w+')"
   ]
  },
  {
   "cell_type": "code",
   "execution_count": 105,
   "metadata": {},
   "outputs": [
    {
     "data": {
      "text/plain": [
       "8"
      ]
     },
     "execution_count": 105,
     "metadata": {},
     "output_type": "execute_result"
    }
   ],
   "source": [
    "f.write(\"New Data\")"
   ]
  },
  {
   "cell_type": "code",
   "execution_count": 106,
   "metadata": {},
   "outputs": [],
   "source": [
    "contents = f.read()"
   ]
  },
  {
   "cell_type": "code",
   "execution_count": 108,
   "metadata": {},
   "outputs": [
    {
     "data": {
      "text/plain": [
       "''"
      ]
     },
     "execution_count": 108,
     "metadata": {},
     "output_type": "execute_result"
    }
   ],
   "source": [
    "contents"
   ]
  },
  {
   "cell_type": "code",
   "execution_count": 109,
   "metadata": {},
   "outputs": [],
   "source": [
    "f.close()"
   ]
  },
  {
   "cell_type": "code",
   "execution_count": 110,
   "metadata": {},
   "outputs": [
    {
     "data": {
      "text/plain": [
       "'New Data'"
      ]
     },
     "execution_count": 110,
     "metadata": {},
     "output_type": "execute_result"
    }
   ],
   "source": [
    "f = open('newFile.txt','r')\n",
    "contents = f.read()\n",
    "contents"
   ]
  },
  {
   "cell_type": "markdown",
   "metadata": {},
   "source": [
    "**Write a query to Print PINCODE where maximum number of products were ordered.**"
   ]
  },
  {
   "cell_type": "raw",
   "metadata": {},
   "source": [
    "SELECT PINCODE from User join Orders on User.UserId=Orders.UserId \n",
    "GROUP BY PINCODE HAVING COUNT(OrderId)>ALL(COUNT(OrderId))"
   ]
  },
  {
   "cell_type": "markdown",
   "metadata": {},
   "source": [
    "**Write a query to print name of the Users who have ordered more than 3\n",
    "iPhones(Here iphone means any iPhone- iPhone Xr, iPhone 7 , iPhone 6s etc)**"
   ]
  },
  {
   "cell_type": "raw",
   "metadata": {},
   "source": [
    "SELECT Name FROM User JOIN Orders ON User.UserId = Orders.UserId JOIN \n",
    "Product ON Orders.ProductId=Product.ProductId WHERE Product.ProductName like 'iPhone%' GROUP BY Name HAVING COUNT(OrderId) > 3"
   ]
  },
  {
   "cell_type": "markdown",
   "metadata": {},
   "source": [
    "**Write a query to Print Product Name, their RAM, Camera , ScreenType, Processor.\n",
    "Print ‘NA’ if any of the specification for any product is not available.**"
   ]
  },
  {
   "cell_type": "raw",
   "metadata": {},
   "source": [
    "SELECT ProductName, LISTAGG(Product_Specs.SpecName,COALESCE(Product_Specs.SpecValue,'NA'), ' , ') WITHIN GROUP (ORDER BY ProductName) AS Specifications\n",
    "FROM   Product JOIN Product_Specs ON Product.ProductId = Product_Specs.ProductId\n",
    "GROUP BY ProductName;"
   ]
  },
  {
   "cell_type": "markdown",
   "metadata": {},
   "source": [
    "**Write a query to print name of all the users from Zone 1 of PinCode who have\n",
    "ordered any phone of RAM more than 4GB**"
   ]
  },
  {
   "cell_type": "raw",
   "metadata": {},
   "source": [
    "SELECT Name FROM User u JOIN Orders o ON u.UserId = o.UserId \n",
    "JOIN Product p ON p.ProductId = o.ProductId\n",
    "JOIN Product_Specs ps ON ps.ProductId = p.ProductId\n",
    "WHERE u.PINCODE=110005 AND ps.SpecName = 'RAM' AND  (select cast(ps.SpecValue as int) from string_split(@stringinteger, 'G')) >4 ;"
   ]
  },
  {
   "cell_type": "raw",
   "metadata": {},
   "source": []
  },
  {
   "cell_type": "code",
   "execution_count": null,
   "metadata": {},
   "outputs": [],
   "source": []
  }
 ],
 "metadata": {
  "kernelspec": {
   "display_name": "Python 3",
   "language": "python",
   "name": "python3"
  },
  "language_info": {
   "codemirror_mode": {
    "name": "ipython",
    "version": 3
   },
   "file_extension": ".py",
   "mimetype": "text/x-python",
   "name": "python",
   "nbconvert_exporter": "python",
   "pygments_lexer": "ipython3",
   "version": "3.7.3"
  }
 },
 "nbformat": 4,
 "nbformat_minor": 2
}
