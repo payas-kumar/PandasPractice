{
 "cells": [
  {
   "cell_type": "code",
   "execution_count": null,
   "metadata": {},
   "outputs": [],
   "source": [
    "retVal = ''\n",
    "for line in range(0,len(lines),2):\n",
    "    arr = [[],[],[],[],[],[],[],[],[]]\n",
    "    k = 0\n",
    "    if lines[line] == \"\":\n",
    "        continue\n",
    "    a = lines[line].split(' ')\n",
    "    for i in range(1,len(a)):\n",
    "        if a[i] == '_':\n",
    "            arr[k].append(True)\n",
    "        i+=2\n",
    "        k+=1\n",
    "    if line < len(lines):\n",
    "        line+=1\n",
    "        if lines[line] == \"\":\n",
    "            continue\n",
    "        a = lines[line].split()\n",
    "        k = 0\n",
    "        for i in range(0,len(a)):\n",
    "            if a[i]=='|':\n",
    "                arr[k][5] = True\n",
    "            i+=1\n",
    "            if a[i]=='_':\n",
    "                arr[k][6] = True\n",
    "            i+=1\n",
    "            if a[i]=='|':\n",
    "                arr[k][1] = True\n",
    "            k+=1\n",
    "        \n",
    "        if line < len(lines):\n",
    "            line+=1\n",
    "            if lines[line] == \"\":\n",
    "                continue\n",
    "            a = lines[line].split()\n",
    "            k = 0\n",
    "            for i in range(0,len(a)):\n",
    "                if a[i]=='|':\n",
    "                    arr[k][4] = True\n",
    "                i+=1\n",
    "                if a[i]=='_':\n",
    "                    arr[k][3] = True\n",
    "                i+=1\n",
    "                if a[i]=='|':\n",
    "                    arr[k][2] = True\n",
    "                k+=1\n",
    "        for t in range(0,len(arr)):\n",
    "            result = 0\n",
    "            for u in range(0,len(arr[t])):\n",
    "                if arr[t][u] == True:\n",
    "                    result+=2**u\n",
    "            res = myMap(result)+\"\"\n",
    "            retVal+=res\n",
    "        retVal+='\\n'\n",
    "    print(retVal)"
   ]
  }
 ],
 "metadata": {
  "kernelspec": {
   "display_name": "Python 3",
   "language": "python",
   "name": "python3"
  },
  "language_info": {
   "codemirror_mode": {
    "name": "ipython",
    "version": 3
   },
   "file_extension": ".py",
   "mimetype": "text/x-python",
   "name": "python",
   "nbconvert_exporter": "python",
   "pygments_lexer": "ipython3",
   "version": "3.7.3"
  }
 },
 "nbformat": 4,
 "nbformat_minor": 2
}
